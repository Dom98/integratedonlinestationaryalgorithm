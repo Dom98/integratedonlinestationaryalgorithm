{
 "cells": [
  {
   "cell_type": "markdown",
   "metadata": {},
   "source": [
    "# Generating synthetic data notebook"
   ]
  },
  {
   "cell_type": "markdown",
   "metadata": {},
   "source": [
    "**Author**: D.Kufel\n",
    "\n",
    "**Date**: 08/21/19"
   ]
  },
  {
   "cell_type": "markdown",
   "metadata": {},
   "source": [
    "In this notebook we generate the synthetic data for the implementation of the online stationary algorithm. The data may be generated using one of three methods: beta distribution, probability distribution over customer types (and no preference for items), or probability distribution over customer types and products. For beta distribution the probabilities of buying of the particular item within a given customer type are probed from beta distribution with potentially different parameters for each customer type. The codes for second and third method are similar to the first one so will not be commented throughly."
   ]
  },
  {
   "cell_type": "code",
   "execution_count": 8,
   "metadata": {},
   "outputs": [],
   "source": [
    "%matplotlib notebook\n",
    "import numpy as np\n",
    "import matplotlib.pyplot as plt"
   ]
  },
  {
   "cell_type": "markdown",
   "metadata": {},
   "source": [
    "## Method 1 - beta distribution"
   ]
  },
  {
   "cell_type": "markdown",
   "metadata": {},
   "source": [
    "### Dataset containing past shoppings of the customers"
   ]
  },
  {
   "cell_type": "code",
   "execution_count": 9,
   "metadata": {},
   "outputs": [],
   "source": [
    "n=200 #number of customers in the past data\n",
    "d=4 #number of items\n",
    "m=5 #number of customer types\n",
    "np.random.seed(51)\n",
    "\n",
    "#parameters for the shape of the beta distribution we probe\n",
    "alpha=[4,3,2,2] \n",
    "beta=[2,2,3,4]\n",
    "ptypes=np.random.beta(alpha[0],beta[0],size=m).reshape(m,1) #probed pdf for the first customer type\n",
    "for item in range(0,d-1):\n",
    "    y=np.random.beta(alpha[item],beta[item],size=m).reshape(m,1) #probed pdf for the remaining customer types\n",
    "    ptypes=np.hstack((ptypes,y)) #creating the arbitrary-sized preference matrix which we will later probe\n",
    "\n",
    "finalarray=np.zeros(d)\n",
    "typelist=[]\n",
    "#arrival_rates=[0.4,0.2,0.2,0.1,0.1]\n",
    "arrival_rates=[0.2,0.2,0.2,0.2,0.2] #arrival rates for different customer types\n",
    "customertypelist=np.arange(0,m) \n",
    "for customer in range(0,n):\n",
    "    currenttype=np.random.choice(customertypelist,p=arrival_rates) #probing the arrival rates distribution\n",
    "    typelist.append(currenttype) \n",
    "    add=np.array([])\n",
    "    #below we find the rewards: {0,1} with probabilities as defined above\n",
    "    for product in range(0,d):\n",
    "        addh=np.random.choice(2,p=[1-ptypes[currenttype][product],ptypes[currenttype][product]]) \n",
    "        add=np.hstack((add,addh))\n",
    "    finalarray=np.vstack((finalarray,add)) #creating the total reward matrix\n",
    "\n",
    "finalarray=np.delete(finalarray,0,axis=0)\n",
    "typelist=np.array(typelist)"
   ]
  },
  {
   "cell_type": "code",
   "execution_count": 10,
   "metadata": {},
   "outputs": [],
   "source": [
    "np.save('pastcustomerdata_beta_rewards',finalarray)\n",
    "np.save('pastcustomerdata_beta_customertype',typelist)"
   ]
  },
  {
   "cell_type": "markdown",
   "metadata": {},
   "source": [
    "### Live dataset the algorithm is supposed to learn"
   ]
  },
  {
   "cell_type": "code",
   "execution_count": 11,
   "metadata": {},
   "outputs": [],
   "source": [
    "new_n=10000 #number of customers which will arrive\n",
    "d=4 #number of items\n",
    "m=5 #number of customer types\n",
    "#parameters for the shape of the probability distribution\n",
    "new_alpha=[4,3,2,2] \n",
    "new_beta=[2,2,3,4]\n",
    "np.random.seed(71)\n",
    "\n",
    "new_ptypes=np.random.beta(new_alpha[0],new_beta[0],size=m).reshape(m,1)\n",
    "for item in range(0,d-1):\n",
    "    new_y=np.random.beta(new_alpha[item],new_beta[item],size=m).reshape(m,1)\n",
    "    new_ptypes=np.hstack((new_ptypes,new_y))\n",
    "\n",
    "new_finalarray=np.zeros(d)\n",
    "new_typelist=[]\n",
    "new_arrival_rates=np.copy(arrival_rates)\n",
    "new_customertypelist=np.arange(0,m)\n",
    "for customer in range(0,new_n):\n",
    "    currenttype=np.random.choice(new_customertypelist,p=new_arrival_rates)\n",
    "    new_typelist.append(currenttype)\n",
    "    add=np.array([])\n",
    "    for product in range(0,d):\n",
    "        addh=np.random.choice(2,p=[1-new_ptypes[currenttype][product],new_ptypes[currenttype][product]])\n",
    "        add=np.hstack((add,addh))\n",
    "    new_finalarray=np.vstack((new_finalarray,add))\n",
    "\n",
    "new_finalarray=np.delete(new_finalarray,0,axis=0)\n",
    "new_typelist=np.array(new_typelist)"
   ]
  },
  {
   "cell_type": "code",
   "execution_count": 12,
   "metadata": {},
   "outputs": [],
   "source": [
    "np.save('newcustomerdata_beta_rewards',new_finalarray)\n",
    "np.save('newcustomerdata_beta_customertype',new_typelist)"
   ]
  },
  {
   "cell_type": "markdown",
   "metadata": {},
   "source": [
    "## METHOD 2 - moderate"
   ]
  },
  {
   "cell_type": "code",
   "execution_count": 6,
   "metadata": {},
   "outputs": [],
   "source": [
    "n=100\n",
    "d=4\n",
    "m=5\n",
    "np.random.seed(3)\n",
    "\n",
    "ptypes0=[[0.1,0.9],[0.2,0.8],[0.3,0.7],[0.4,0.6],[0.5,0.5]] \n",
    "ptypes1=[[0.2,0.8],[0.4,0.6],[0.5,0.5],[0.6,0.4],[0.9,0.1]] \n",
    "ptypes2=[[0.6,0.4],[0.5,0.5],[0.4,0.6],[0.8,0.2],[0.9,0.1]] \n",
    "ptypes3=[[0.7,0.3],[0.8,0.2],[0.9,0.1],[0.95,0.05],[0.95,0.05]] \n",
    "ptypes=[ptypes0,ptypes1,ptypes2,ptypes3]\n",
    "\n",
    "finalarray=np.zeros(d)\n",
    "typelist=[]\n",
    "arrival_rates=[0.4,0.2,0.2,0.1,0.1]\n",
    "customertypelist=np.arange(0,m)\n",
    "for customer in range(0,n):\n",
    "    currenttype=np.random.choice(customertypelist,p=arrival_rates)\n",
    "    typelist.append(currenttype)\n",
    "    add=np.array([])\n",
    "    for product in range(0,d):\n",
    "        addh=np.random.choice(2,p=ptypes[product][currenttype],size=(1,1))[0]\n",
    "        add=np.hstack((add,addh))\n",
    "    finalarray=np.vstack((finalarray,add))\n",
    "\n",
    "finalarray=np.delete(finalarray,0,axis=0)\n",
    "typelist=np.array(typelist)\n",
    "\n",
    "np.save('pastcustomerdata_moderate_rewards',finalarray)\n",
    "np.save('pastcustomerdata_moderate_customertype',typelist)"
   ]
  },
  {
   "cell_type": "code",
   "execution_count": 7,
   "metadata": {},
   "outputs": [],
   "source": [
    "new_n=10000\n",
    "d=4\n",
    "m=5\n",
    "np.random.seed(340)\n",
    "\n",
    "new_ptypes0=[[0.05,0.95],[0.25,0.75],[0.25,0.75],[0.3,0.7],[0.6,0.4]] \n",
    "new_ptypes1=[[0.15,0.85],[0.45,0.55],[0.5,0.5],[0.55,0.45],[0.85,0.15]] \n",
    "new_ptypes2=[[0.7,0.3],[0.55,0.45],[0.55,0.45],[0.8,0.2],[0.9,0.1]] \n",
    "new_ptypes3=[[0.75,0.25],[0.75,0.25],[0.85,0.15],[0.9,0.1],[0.95,0.05]] \n",
    "new_ptypes=[new_ptypes0,new_ptypes1,new_ptypes2,new_ptypes3]\n",
    "\n",
    "new_finalarray=np.zeros(d)\n",
    "new_typelist=[]\n",
    "new_arrival_rates=np.copy(arrival_rates)\n",
    "new_customertypelist=np.arange(0,m)\n",
    "for customer in range(0,new_n):\n",
    "    currenttype=np.random.choice(new_customertypelist,p=new_arrival_rates)\n",
    "    new_typelist.append(currenttype)\n",
    "    add=np.array([])\n",
    "    for product in range(0,d):\n",
    "        addh=np.random.choice(2,p=new_ptypes[product][currenttype],size=(1,1))[0]\n",
    "        add=np.hstack((add,addh))\n",
    "    new_finalarray=np.vstack((new_finalarray,add))\n",
    "    \n",
    "new_finalarray=np.delete(new_finalarray,0,axis=0)\n",
    "new_typelist=np.array(new_typelist)\n",
    "\n",
    "np.save('newcustomerdata_moderate_rewards',new_finalarray)\n",
    "np.save('newcustomerdata_moderate_customertype',new_typelist)"
   ]
  },
  {
   "cell_type": "markdown",
   "metadata": {},
   "source": [
    "## METHOD 3 - simple"
   ]
  },
  {
   "cell_type": "code",
   "execution_count": 8,
   "metadata": {},
   "outputs": [],
   "source": [
    "n=50\n",
    "d=4\n",
    "m=5\n",
    "np.random.seed(112)\n",
    "ptypes=[[0.2,0.8],[0.3,0.7],[0.5,0.5],[0.8,0.2],[0.9,0.1]] \n",
    "\n",
    "finalarray=np.zeros(d)\n",
    "typelist=[]\n",
    "arrival_rates=[0.4,0.2,0.2,0.1,0.1]\n",
    "customertypelist=np.arange(0,m)\n",
    "for customer in range(0,n):\n",
    "    currenttype=np.random.choice(customertypelist,p=arrival_rates)\n",
    "    typelist.append(currenttype)\n",
    "    add=np.random.choice(2,p=ptypes[currenttype],size=(1,d))\n",
    "    finalarray=np.vstack((finalarray,add))\n",
    "\n",
    "finalarray=np.delete(finalarray,0,axis=0)\n",
    "typelist=np.array(typelist)\n",
    "\n",
    "np.save('pastcustomerdata_simple_rewards',finalarray)\n",
    "np.save('pastcustomerdata_simple_customertype',typelist)"
   ]
  },
  {
   "cell_type": "code",
   "execution_count": 9,
   "metadata": {},
   "outputs": [],
   "source": [
    "new_n=1000\n",
    "d=4\n",
    "m=5\n",
    "np.random.seed(911)\n",
    "new_ptypes=[[0.3,0.7],[0.2,0.8],[0.5,0.5],[0.7,0.3],[0.7,0.3]] \n",
    "\n",
    "#new_ptypes=[[0.15,0.85],[0.4,0.6],[0.6,0.4],[0.75,0.25],[0.7,0.3]] \n",
    "\n",
    "new_finalarray=np.zeros(d)\n",
    "new_typelist=[]\n",
    "new_arrival_rates=np.copy(arrival_rates)\n",
    "new_customertypelist=np.arange(0,m)\n",
    "for customer in range(0,new_n):\n",
    "    currenttype=np.random.choice(new_customertypelist,p=new_arrival_rates)\n",
    "    new_typelist.append(currenttype)\n",
    "    add=np.random.choice(2,p=ptypes[currenttype],size=(1,d))\n",
    "    new_finalarray=np.vstack((new_finalarray,add))\n",
    "\n",
    "new_finalarray=np.delete(new_finalarray,0,axis=0)\n",
    "new_typelist=np.array(new_typelist)\n",
    "\n",
    "np.save('newcustomerdata_simple_rewards',new_finalarray)\n",
    "np.save('newcustomerdata_simple_customertype',new_typelist)"
   ]
  }
 ],
 "metadata": {
  "kernelspec": {
   "display_name": "Python 3",
   "language": "python",
   "name": "python3"
  },
  "language_info": {
   "codemirror_mode": {
    "name": "ipython",
    "version": 3
   },
   "file_extension": ".py",
   "mimetype": "text/x-python",
   "name": "python",
   "nbconvert_exporter": "python",
   "pygments_lexer": "ipython3",
   "version": "3.7.3"
  }
 },
 "nbformat": 4,
 "nbformat_minor": 2
}
